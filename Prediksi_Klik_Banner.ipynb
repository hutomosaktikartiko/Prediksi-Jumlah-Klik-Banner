{
 "cells": [
  {
   "cell_type": "code",
   "execution_count": 1,
   "metadata": {},
   "outputs": [],
   "source": [
    "#import library \n",
    "import pandas as pd"
   ]
  },
  {
   "cell_type": "code",
   "execution_count": 2,
   "metadata": {},
   "outputs": [],
   "source": [
    "# Baca data 'ecommerce_banner_promo.csv'\n",
    "data = pd.read_csv('https://dqlab-dataset.s3-ap-southeast-1.amazonaws.com/pythonTutorial/ecommerce_banner_promo.csv')"
   ]
  },
  {
   "cell_type": "code",
   "execution_count": 3,
   "metadata": {},
   "outputs": [
    {
     "name": "stdout",
     "output_type": "stream",
     "text": [
      "\n",
      "[1] Data eksplorasi dengan head(), info(), describe(), shape\n",
      "Lima data teratas:\n",
      "   Daily Time Spent on Site  Age  Area Income  Daily Internet Usage  \\\n",
      "0                     68.95   35     61833.90                256.09   \n",
      "1                     80.23   31     68441.85                193.77   \n",
      "2                     69.47   26     59785.94                236.50   \n",
      "3                     74.15   29     54806.18                245.89   \n",
      "4                     68.37   35     73889.99                225.58   \n",
      "\n",
      "                           Ad Topic Line            City  Male     Country  \\\n",
      "0     Cloned 5thgeneration orchestration     Wrightburgh     0     Tunisia   \n",
      "1     Monitored national standardization       West Jodi     1       Nauru   \n",
      "2       Organic bottom-line service-desk        Davidton     0  San Marino   \n",
      "3  Triple-buffered reciprocal time-frame  West Terrifurt     1       Italy   \n",
      "4          Robust logistical utilization    South Manuel     0     Iceland   \n",
      "\n",
      "         Timestamp  Clicked on Ad  \n",
      "0   3/27/2016 0:53              0  \n",
      "1    4/4/2016 1:39              0  \n",
      "2  3/13/2016 20:35              0  \n",
      "3   1/10/2016 2:31              0  \n",
      "4    6/3/2016 3:36              0  \n",
      "Informasi dataset:\n",
      "<class 'pandas.core.frame.DataFrame'>\n",
      "RangeIndex: 1000 entries, 0 to 999\n",
      "Data columns (total 10 columns):\n",
      " #   Column                    Non-Null Count  Dtype  \n",
      "---  ------                    --------------  -----  \n",
      " 0   Daily Time Spent on Site  1000 non-null   float64\n",
      " 1   Age                       1000 non-null   int64  \n",
      " 2   Area Income               1000 non-null   float64\n",
      " 3   Daily Internet Usage      1000 non-null   float64\n",
      " 4   Ad Topic Line             1000 non-null   object \n",
      " 5   City                      1000 non-null   object \n",
      " 6   Male                      1000 non-null   int64  \n",
      " 7   Country                   1000 non-null   object \n",
      " 8   Timestamp                 1000 non-null   object \n",
      " 9   Clicked on Ad             1000 non-null   int64  \n",
      "dtypes: float64(3), int64(3), object(4)\n",
      "memory usage: 78.2+ KB\n",
      "None\n",
      "Statistik deskriptif dataset:\n",
      "       Daily Time Spent on Site          Age   Area Income  \\\n",
      "count               1000.000000  1000.000000   1000.000000   \n",
      "mean                  65.000200    36.009000  55000.000080   \n",
      "std                   15.853615     8.785562  13414.634022   \n",
      "min                   32.600000    19.000000  13996.500000   \n",
      "25%                   51.360000    29.000000  47031.802500   \n",
      "50%                   68.215000    35.000000  57012.300000   \n",
      "75%                   78.547500    42.000000  65470.635000   \n",
      "max                   91.430000    61.000000  79484.800000   \n",
      "\n",
      "       Daily Internet Usage         Male  Clicked on Ad  \n",
      "count           1000.000000  1000.000000     1000.00000  \n",
      "mean             180.000100     0.481000        0.50000  \n",
      "std               43.902339     0.499889        0.50025  \n",
      "min              104.780000     0.000000        0.00000  \n",
      "25%              138.830000     0.000000        0.00000  \n",
      "50%              183.130000     0.000000        0.50000  \n",
      "75%              218.792500     1.000000        1.00000  \n",
      "max              269.960000     1.000000        1.00000  \n",
      "Ukuran dataset:\n",
      "(1000, 10)\n"
     ]
    }
   ],
   "source": [
    "#1. Data eksplorasi dengan head(), info(), describe(), shape\n",
    "print(\"\\n[1] Data eksplorasi dengan head(), info(), describe(), shape\")\n",
    "print(\"Lima data teratas:\")\n",
    "print(data.head())\n",
    "print(\"Informasi dataset:\")\n",
    "print(data.info())\n",
    "print(\"Statistik deskriptif dataset:\")\n",
    "print(data.describe())\n",
    "print(\"Ukuran dataset:\")\n",
    "print(data.shape)"
   ]
  },
  {
   "cell_type": "code",
   "execution_count": 4,
   "metadata": {},
   "outputs": [
    {
     "name": "stdout",
     "output_type": "stream",
     "text": [
      "\n",
      "[2] Data eksplorasi dengan dengan mengecek korelasi dari setiap feature menggunakan fungsi corr()\n",
      "                          Daily Time Spent on Site       Age  Area Income  \\\n",
      "Daily Time Spent on Site                  1.000000 -0.331513     0.310954   \n",
      "Age                                      -0.331513  1.000000    -0.182605   \n",
      "Area Income                               0.310954 -0.182605     1.000000   \n",
      "Daily Internet Usage                      0.518658 -0.367209     0.337496   \n",
      "Male                                     -0.018951 -0.021044     0.001322   \n",
      "Clicked on Ad                            -0.748117  0.492531    -0.476255   \n",
      "\n",
      "                          Daily Internet Usage      Male  Clicked on Ad  \n",
      "Daily Time Spent on Site              0.518658 -0.018951      -0.748117  \n",
      "Age                                  -0.367209 -0.021044       0.492531  \n",
      "Area Income                           0.337496  0.001322      -0.476255  \n",
      "Daily Internet Usage                  1.000000  0.028012      -0.786539  \n",
      "Male                                  0.028012  1.000000      -0.038027  \n",
      "Clicked on Ad                        -0.786539 -0.038027       1.000000  \n"
     ]
    }
   ],
   "source": [
    "#2. Data eksplorasi dengan dengan mengecek korelasi dari setiap feature menggunakan fungsi corr()\n",
    "print(\"\\n[2] Data eksplorasi dengan dengan mengecek korelasi dari setiap feature menggunakan fungsi corr()\")\n",
    "print(data.corr())"
   ]
  },
  {
   "cell_type": "code",
   "execution_count": 5,
   "metadata": {},
   "outputs": [
    {
     "name": "stdout",
     "output_type": "stream",
     "text": [
      "\n",
      "[3] Data eksplorasi dengan mengecek distribusi label menggunakan fungsi groupby() dan size()\n",
      "Clicked on Ad\n",
      "0    500\n",
      "1    500\n",
      "dtype: int64\n"
     ]
    }
   ],
   "source": [
    "#3. Data eksplorasi dengan mengecek distribusi label menggunakan fungsi groupby() dan size()\n",
    "print(\"\\n[3] Data eksplorasi dengan mengecek distribusi label menggunakan fungsi groupby() dan size()\")\n",
    "print(data.groupby('Clicked on Ad').size())"
   ]
  },
  {
   "cell_type": "code",
   "execution_count": 7,
   "metadata": {},
   "outputs": [],
   "source": [
    "#import library\n",
    "import matplotlib.pyplot as plt\n",
    "import seaborn as sns\n",
    "\n",
    "# Seting: matplotlib and seaborn\n",
    "sns.set_style('whitegrid')  \n",
    "plt.style.use('fivethirtyeight')"
   ]
  },
  {
   "cell_type": "code",
   "execution_count": 8,
   "metadata": {},
   "outputs": [
    {
     "data": {
      "image/png": "[encoded data removed]",
      "text/plain": [
       "<Figure size 720x360 with 1 Axes>"
      ]
     },
     "metadata": {},
     "output_type": "display_data"
    }
   ],
   "source": [
    "#4. Data eksplorasi dengan visualisasi\n",
    "#4a. Visualisasi Jumlah user dibagi ke dalam rentang usia (Age) menggunakan histogram (hist()) plot\n",
    "plt.figure(figsize=(10, 5))\n",
    "plt.hist(data['Age'], bins = data.Age.nunique())\n",
    "plt.xlabel('Age')\n",
    "plt.tight_layout()\n",
    "plt.show()"
   ]
  },
  {
   "cell_type": "code",
   "execution_count": null,
   "metadata": {},
   "outputs": [],
   "source": []
  }
 ],
 "metadata": {
  "kernelspec": {
   "display_name": "Python 3",
   "language": "python",
   "name": "python3"
  },
  "language_info": {
   "codemirror_mode": {
    "name": "ipython",
    "version": 3
   },
   "file_extension": ".py",
   "mimetype": "text/x-python",
   "name": "python",
   "nbconvert_exporter": "python",
   "pygments_lexer": "ipython3",
   "version": "3.8.3"
  }
 },
 "nbformat": 4,
 "nbformat_minor": 4
}
